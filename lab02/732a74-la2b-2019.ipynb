{
 "cells": [
  {
   "cell_type": "markdown",
   "metadata": {},
   "source": [
    "# Lab 2B: Functional programming, and declarative patterns\n"
   ]
  },
  {
   "cell_type": "markdown",
   "metadata": {},
   "source": [
    "__Student:__ aleka769 (Alexander Karlsson)\n",
    "\n",
    "__Student:__ maxpf364 (Maximilian Pfundstein)"
   ]
  },
  {
   "cell_type": "markdown",
   "metadata": {},
   "source": [
    "Disclaimer: Functional programming in Python does not always lead to the fastest possible code, and is often not considered the *pythonic* approach. However, functional programming is the basis for many concurrent systems (the MapReduce programming model which many big data systems, e.g. Hadoop, relies on gets its name from the *map* and *reduce* functions mentioned below). Python is a multi-paradigm language, and functional programming is one of the main paradigms one can use. To understand how and when to do this, it is necessary to do things in a non-*pythonic* way in order to cover the basics."
   ]
  },
  {
   "cell_type": "markdown",
   "metadata": {},
   "source": [
    "## General instructions\n",
    "\n",
    "In this lab there are some general rules you should keep in mind to make sure you are on the correct path in your solutions.\n",
    "\n",
    "#### Rules\n",
    "1. You are not allowed to use `while` or `for` statements unless this is explicitly allowed in the task.\n",
    "2. You are not allowed to use global variables (other than for functions defined in the global environment).\n",
    "3. Code stubs should be viewed as fixed, you are only allowed to add code, the only code you are allowed to change is `pass` statements, which you should remove.\n",
    "4. You should refrain from using the `list` datatype unless otherwise specified and instead use `tuple`. One of the strengths of functional programming is its focus on immutable data types (this is why functional programming and concurrency goes so well together). Incidentally, one might find speedups when using the immutable tuples instead of lists.\n",
    "\n",
    "#### Advice\n",
    "1. Avoid local variables unless you are certain they are necessary, in most cases you won't need to use local variables. (altermatively, use local variables to your hearts content, but when your solution works, try to eliminate them, you should be able to eliminate most of them, over time, you might find that you don't need them.)"
   ]
  },
  {
   "cell_type": "markdown",
   "metadata": {},
   "source": [
    "# 2 Recursion\n",
    "\n",
    "As an introduction to linear recursion, read the introductory note on the course webpage. This might help explain terms that you may not know (even if the concept is previously known)."
   ]
  },
  {
   "cell_type": "markdown",
   "metadata": {},
   "source": [
    "## 2.1 Linear recursion"
   ]
  },
  {
   "cell_type": "markdown",
   "metadata": {},
   "source": [
    "a) Write a recursive function `sum_even(n)` that takes a natural number $n\\geq 0$ and returns the sum of all even numbers $0,...,n$. It should be linear-recursive with delayed computations."
   ]
  },
  {
   "cell_type": "code",
   "execution_count": 1,
   "metadata": {},
   "outputs": [
    {
     "name": "stdout",
     "output_type": "stream",
     "text": [
      "21\n"
     ]
    }
   ],
   "source": [
    "def sum_even(n):\n",
    "    if n == 1:\n",
    "        return 1\n",
    "    return n + sum_even(n-1)\n",
    "\n",
    "print(sum_even(6))"
   ]
  },
  {
   "cell_type": "markdown",
   "metadata": {},
   "source": [
    "b) Write `sum_even_it(n)` according to the same specification. In this case, the solution should be tail recursive."
   ]
  },
  {
   "cell_type": "code",
   "execution_count": 2,
   "metadata": {},
   "outputs": [
    {
     "name": "stdout",
     "output_type": "stream",
     "text": [
      "21\n"
     ]
    }
   ],
   "source": [
    "# Your code here.\n",
    "def sum_even_it(n, total = 0):\n",
    "    if n == 0:\n",
    "        return total\n",
    "    return sum_even_it(n - 1, total + n);\n",
    "\n",
    "print(sum_even_it(6))"
   ]
  },
  {
   "cell_type": "markdown",
   "metadata": {},
   "source": [
    "c) We can of course express this in a declarative and Pythonic way, which is non-recursive. Write a function `sum_even_py` which returns the same result as above, but using comprehension or filter/map/reduce construct."
   ]
  },
  {
   "cell_type": "code",
   "execution_count": 3,
   "metadata": {},
   "outputs": [
    {
     "name": "stdout",
     "output_type": "stream",
     "text": [
      "21\n"
     ]
    }
   ],
   "source": [
    "def sum_even_py(n):\n",
    "    return sum([x for x in range(n + 1)])\n",
    "\n",
    "print(sum_even_py(6))"
   ]
  },
  {
   "cell_type": "markdown",
   "metadata": {},
   "source": [
    "## 2.2 Double/tree recursion"
   ]
  },
  {
   "cell_type": "markdown",
   "metadata": {},
   "source": [
    "Sometimes we might find ourselves with branching structures, where there are several \"smaller\" cases to recurse over. This might for instance be the case when we have trees, lists-within-lists or the like."
   ]
  },
  {
   "cell_type": "markdown",
   "metadata": {},
   "source": [
    "[Note: In the tasks below, it might be helpful to gain an understanding of `isinstance`. See the documentation!]"
   ]
  },
  {
   "cell_type": "markdown",
   "metadata": {},
   "source": [
    "a) One common use of recursion is to traverse recursive data structures. One exercise might be to _flatten_ nested lists or tuples. This is relatively simple with only one level of nesting, or when the structure follows a strict pattern, but for arbitrary nested sequences, a recursive approach is more natural. Implement a recursive function `myflatten` which can take an arbitrary structure of nested tuples and flattens it (in the sense of returning a new non-nested tuple with the same elements in the same order)."
   ]
  },
  {
   "cell_type": "code",
   "execution_count": 4,
   "metadata": {},
   "outputs": [],
   "source": [
    "def myflatten(seq):\n",
    "    \n",
    "    if len(seq) == 0:\n",
    "        return tuple()\n",
    "    \n",
    "    if isinstance(seq[0], tuple):\n",
    "        result = myflatten(seq[0])\n",
    "    else:\n",
    "        result = (seq[0], )\n",
    "    \n",
    "    if len(seq[1:]) == 0:\n",
    "        return result\n",
    "\n",
    "    return result + myflatten(seq[1:])\n",
    "\n",
    "def test_myflatten():\n",
    "    tests = (\n",
    "     ((), (), \"the empty tuple\"), \n",
    "     ((1,2,3), (1,2,3), \"flat tuples invariant under flattening\"), \n",
    "     ( (1, (2), 3, (4, 5, (6), 7), 8), (1, 2, 3, 4, 5, 6, 7, 8), \"Arbitrarily nested tuples.\")\n",
    "    )\n",
    "    for arg, expected_output, error_msg in tests:\n",
    "        assert myflatten(arg) == expected_output, error_msg\n",
    "        \n",
    "test_myflatten()"
   ]
  },
  {
   "cell_type": "code",
   "execution_count": 5,
   "metadata": {},
   "outputs": [
    {
     "name": "stdout",
     "output_type": "stream",
     "text": [
      "()\n",
      "(1, 2, 3)\n",
      "(1, 2, 3, 4, 5, 6, 7, 8, 1, 2, 3, 4, 5, 6, 7, 8)\n"
     ]
    }
   ],
   "source": [
    "print(myflatten(()))\n",
    "print(myflatten((1,2,3)))\n",
    "print(myflatten(((1, (2), 3, (4, 5, (6), 7), 8), (1, 2, 3, 4, 5, 6, 7, 8))))"
   ]
  },
  {
   "cell_type": "markdown",
   "metadata": {},
   "source": [
    "b) Implement a function `exists_in(e, seq)` which returns `True` if the element `e` exists somewhere in the tuple `seq` (and `False` otherwise). `seq` might be nested and contain tuples-within-tuples."
   ]
  },
  {
   "cell_type": "code",
   "execution_count": 6,
   "metadata": {},
   "outputs": [],
   "source": [
    "def exists_in(e, seq):\n",
    "    \n",
    "    result = 0\n",
    "    \n",
    "    if (len(seq)) == 0:\n",
    "        return 0\n",
    "    \n",
    "    if isinstance(seq[0], tuple):\n",
    "        result = result + exists_in(e, seq[0])\n",
    "    \n",
    "    if (seq[0] == e):\n",
    "        return 1\n",
    "    elif len(seq) > 0:\n",
    "        result = result + exists_in(e, seq[1:])\n",
    "    \n",
    "    return result > 0    "
   ]
  },
  {
   "cell_type": "markdown",
   "metadata": {},
   "source": [
    "c) Write a few representative test cases, as in lab 2A."
   ]
  },
  {
   "cell_type": "code",
   "execution_count": 7,
   "metadata": {},
   "outputs": [],
   "source": [
    "def test_find_anywhere():\n",
    "    tests = (\n",
    "     ((1, (1, 2, 3)), (True), \"First element not found.\"), \n",
    "     ((2, (1, 2, 3)), (True), \"Intermediate element not found.\"), \n",
    "     ((8, (1, 2, 3)), (False), \"Non existing value found.\"), \n",
    "     ((7, (7, (1, (2), 3, (4, 5, (6), 7), 8))), (True), \"Arbitrarily nested tuple should be searchable as well.\"),\n",
    "     ((9, (7, (1, (2), 3, (4, 5, (6), 7), 8))), (False), \"Arbitrarily nested tuple should be searchable as well.\"))\n",
    "    for arg, expected_output, error_msg in tests:\n",
    "        assert exists_in(*arg) == expected_output, error_msg\n",
    "        \n",
    "test_find_anywhere()"
   ]
  },
  {
   "cell_type": "markdown",
   "metadata": {},
   "source": [
    "d) One of the most famous recursive functions is the Quicksort function (https://en.wikipedia.org/wiki/Quicksort). It allows us to sort a sequence, with repeated values, in (amortized) log-linear time and with a logarithmic number of recursive calls. We will start by implementing Quicksort for a tuple of numbers.\n",
    "\n",
    "Note that Wikipedia illustrates a more advanced _in-place_ version of Quicksort, with a more advanced partition function. For the purposes of this assignment, you can simply pass a new tuple or generator to each recursive call to quicksort. You may use eg _filter_ or a comprehension to create the inputs."
   ]
  },
  {
   "cell_type": "code",
   "execution_count": 8,
   "metadata": {},
   "outputs": [
    {
     "data": {
      "text/plain": [
       "(1121, 1720, 1989, 1222, 1429, 1952, 1345, 1303, 1447, 1158)"
      ]
     },
     "execution_count": 8,
     "metadata": {},
     "output_type": "execute_result"
    }
   ],
   "source": [
    "from random import sample, choice\n",
    "\n",
    "# Write quicksort here:\n",
    "def quicksort(seq):\n",
    "    \n",
    "    if isinstance(seq, int):\n",
    "        return (seq, )\n",
    "    \n",
    "    if len(seq) == 0:\n",
    "        return tuple()\n",
    "    \n",
    "    pivot = seq[0]\n",
    "    seq_lower = tuple(filter(lambda x: x < pivot, seq))\n",
    "    seq_upper = tuple(filter(lambda x: x > pivot, seq))\n",
    "    \n",
    "    return(quicksort(seq_lower) + (pivot, ) + quicksort(seq_upper))\n",
    "\n",
    "a = tuple(sample(range(1000,2000), 1000))\n",
    "b = quicksort(a)\n",
    "a[0:10]"
   ]
  },
  {
   "cell_type": "code",
   "execution_count": 9,
   "metadata": {},
   "outputs": [
    {
     "data": {
      "text/plain": [
       "(1000, 1001, 1002, 1003, 1004, 1005, 1006, 1007, 1008, 1009)"
      ]
     },
     "execution_count": 9,
     "metadata": {},
     "output_type": "execute_result"
    }
   ],
   "source": [
    "b[0:10]"
   ]
  },
  {
   "cell_type": "code",
   "execution_count": 10,
   "metadata": {},
   "outputs": [
    {
     "data": {
      "text/plain": [
       "(1990, 1991, 1992, 1993, 1994, 1995, 1996, 1997, 1998, 1999)"
      ]
     },
     "execution_count": 10,
     "metadata": {},
     "output_type": "execute_result"
    }
   ],
   "source": [
    "b[-10:]"
   ]
  },
  {
   "cell_type": "markdown",
   "metadata": {},
   "source": [
    "## 3 Higher order functions (HOF)\n",
    " \n",
    "A _higher-order function_ is a function which operates on other functions. What this means exactly is disputed, but we will call any function which returns a function or takes a function as an argument a higher-order function. (Conversely, a function neither taking another function as input nor returning a function we will refer to as a _first-order function_)\n",
    "\n",
    "In R you have encountered these when, for instance, using the `apply` family of functions, which are all versions of what is called a `map` function in functional programming (see below).\n",
    "\n",
    "When using higher-order functions, it is often useful to create simple anonymous functions at the place in the code where they are used, rather than defining a new named function in one place only to call it in a single other place. In R, all functions are created in this way with the `function` keyword, but they are usually assigned to global names with standard assignment (`<-`). Python provides similar functionality using the `lambda` keyword (name inspired by Alonzo Church's [$\\lambda$-calculus](https://www.youtube.com/watch?v=eis11j_iGMs) which has inspired much of functional programming) with which we can create anonymous functions. Of course, we can also pass named functions to higher-order functions, which is usually the case when the function is predefined, general enough to be used in more than one place, or complex enough to warrant separate definition and documentation for the sake of clarity."
   ]
  },
  {
   "cell_type": "markdown",
   "metadata": {},
   "source": [
    "## 3.1 The three standard functions `map`, `reduce` and `filter`\n",
    "\n",
    "There are three standard cases which are widely applicable and many other higher-order functions are special cases or combinations of these. They are: `map`, apply a function on each element in a sequence, `filter`, keep (or conversely, remove) elements from a sequence according to some condition, and `reduce`, combine the elements in a sequence. The `map` function takes a sequence and a function (usually of 1 parameter) which is to be applied to each element of the sequence and might return anything, this function is assumed not to have side effects. The `filter` function takes a function (usually of 1 parameter) which returns a boolean value used to indicate which elements are to be kept. The `reduce` function takes a function (usually of 2 parameters) which is used to combine the elements in the sequence.\n",
    "\n",
    "In Python, `map` and `filter` are standard built-in functions. Since Python 3, the `reduce` function needs to be imported from the `functools` module.\n",
    "\n",
    "Many more advanced functions, of any order, can be created by combining these three higher-order functions.\n",
    "\n",
    "A note from last year: usually, the `reduce` function is more difficult to grasp than `map` and `filter` but I found this blog-post by André Burgaud to be a nice introduction to `reduce`. Note that Burgaud talks about the more general _fold_ concept rather than `reduce`, which is a special case of fold often called _left fold_ (this is covered in more detail in the post). https://www.burgaud.com/foldl-foldr-python/"
   ]
  },
  {
   "cell_type": "markdown",
   "metadata": {},
   "source": [
    "a) Implement a function `mysum` which computes the sum of a list or tuple of numbers using the reduce function and a lambda function."
   ]
  },
  {
   "cell_type": "code",
   "execution_count": 11,
   "metadata": {},
   "outputs": [
    {
     "data": {
      "text/plain": [
       "12"
      ]
     },
     "execution_count": 11,
     "metadata": {},
     "output_type": "execute_result"
    }
   ],
   "source": [
    "from functools import reduce\n",
    "\n",
    "def mysum(seq):\n",
    "    return reduce(lambda x, y: x + y, seq)\n",
    "\n",
    "mysum((4, 7, 1))"
   ]
  },
  {
   "cell_type": "markdown",
   "metadata": {},
   "source": [
    "b) Implement a function `mylength` which uses `map` and `reduce` to compute the length of a sequence. The use of the `len` function is not allowed.\n",
    "\n",
    "[Hint: Use `map` to convert the input to something which can easily be `reduce`:d.]"
   ]
  },
  {
   "cell_type": "code",
   "execution_count": 12,
   "metadata": {},
   "outputs": [
    {
     "name": "stdout",
     "output_type": "stream",
     "text": [
      "5\n",
      "4\n"
     ]
    }
   ],
   "source": [
    "def mylength(seq):\n",
    "    return mysum(map(lambda x: 1, seq))\n",
    "    \n",
    "print(mylength((4, 2, 5, 2, 5)))\n",
    "print(mylength(\"test\"))"
   ]
  },
  {
   "cell_type": "markdown",
   "metadata": {},
   "source": [
    "## 3.2 Building your own higher order functions"
   ]
  },
  {
   "cell_type": "markdown",
   "metadata": {},
   "source": [
    "a) Re-implement the three basic functional helper functions `map`, `filter` and `reduce` **as purely functional recursive functions**. You may not express this as eg comprehensions; the task is to practice figuring out this type of logic.\n",
    "\n",
    "Note that the built-in versions of these functions work on multiple sequences of equal length if supplied, however, you can assume a single sequence as second parameter, i.e. you can also skip the third parameter to reduce."
   ]
  },
  {
   "cell_type": "code",
   "execution_count": 13,
   "metadata": {},
   "outputs": [
    {
     "name": "stdout",
     "output_type": "stream",
     "text": [
      "(2, 3, 4, 5)\n"
     ]
    }
   ],
   "source": [
    "seq = (1, 2, 3, 4, 5)\n",
    "print(seq[1:])"
   ]
  },
  {
   "cell_type": "code",
   "execution_count": 14,
   "metadata": {},
   "outputs": [
    {
     "data": {
      "text/plain": [
       "(0, 1, 4, 9, 16, 25, 36, 49, 64, 81)"
      ]
     },
     "execution_count": 14,
     "metadata": {},
     "output_type": "execute_result"
    }
   ],
   "source": [
    "def mymap(f, seq):\n",
    "    if (len(seq)) == 0:\n",
    "        return tuple()\n",
    "    return (f(seq[0]), ) + mymap(f, seq[1:])\n",
    "\n",
    "mymap(lambda x:x**2, tuple(range(10)))"
   ]
  },
  {
   "cell_type": "code",
   "execution_count": 15,
   "metadata": {},
   "outputs": [
    {
     "data": {
      "text/plain": [
       "(0, 2, 4, 6, 8)"
      ]
     },
     "execution_count": 15,
     "metadata": {},
     "output_type": "execute_result"
    }
   ],
   "source": [
    "def myfilter(f, seq):\n",
    "    if (len(seq)) == 0:\n",
    "        return tuple()\n",
    "    if f(seq[0]):\n",
    "        return (seq[0], ) + myfilter(f, seq[1:])\n",
    "    return tuple() + myfilter(f, seq[1:])\n",
    "\n",
    "myfilter(lambda x:x%2==0, tuple(range(10)))"
   ]
  },
  {
   "cell_type": "markdown",
   "metadata": {},
   "source": [
    "You might note the similarities with how you implemented `sum_even`."
   ]
  },
  {
   "cell_type": "code",
   "execution_count": 16,
   "metadata": {},
   "outputs": [
    {
     "data": {
      "text/plain": [
       "24"
      ]
     },
     "execution_count": 16,
     "metadata": {},
     "output_type": "execute_result"
    }
   ],
   "source": [
    "def myreduce(f, seq):\n",
    "    if (len(seq)) == 2:\n",
    "        return f(seq[0], seq[1])\n",
    "    return f(seq[0], myreduce(f, seq[1:]))\n",
    "\n",
    "myreduce(lambda x, y: x*y, tuple(range(1,5)))"
   ]
  },
  {
   "cell_type": "markdown",
   "metadata": {},
   "source": [
    "## 3.3 Returning functions\n",
    "\n",
    "The previous section covered functions which take other functions as input, but what about the opposite, functions returning functions as output?"
   ]
  },
  {
   "cell_type": "markdown",
   "metadata": {},
   "source": [
    "a) Function composition is a common in both maths and programming. Write a function `compose` which takes two functions, $f$ and $g$, and produces the _composite_ function $f \\circ g$, where $(f \\circ g)(x) \\Leftrightarrow f(g(x))$. Example use is given below."
   ]
  },
  {
   "cell_type": "code",
   "execution_count": 17,
   "metadata": {
    "scrolled": true
   },
   "outputs": [
    {
     "name": "stdout",
     "output_type": "stream",
     "text": [
      "[-1.507556722888818, -1.2060453783110545, -0.9045340337332909, -0.6030226891555273, -0.30151134457776363, 0.0, 0.30151134457776363, 0.6030226891555273, 0.9045340337332909, 1.2060453783110545, 1.507556722888818]\n"
     ]
    }
   ],
   "source": [
    "from statistics import stdev, mean\n",
    "\n",
    "def compose(f, g):\n",
    "    return lambda x: f(g(x))\n",
    "\n",
    "def myscale(vals):\n",
    "    return [x/stdev(vals) for x in vals]\n",
    "\n",
    "def myshift(vals):\n",
    "    return [x-mean(vals) for x in vals]\n",
    "\n",
    "standardize = compose(myscale, myshift)\n",
    "\n",
    "print(standardize(range(-3, 8)))"
   ]
  },
  {
   "cell_type": "code",
   "execution_count": 18,
   "metadata": {},
   "outputs": [
    {
     "name": "stdout",
     "output_type": "stream",
     "text": [
      "range(-3, 8)\n",
      "[-5, -4, -3, -2, -1, 0, 1, 2, 3, 4, 5]\n",
      "[-1.507556722888818, -1.2060453783110545, -0.9045340337332909, -0.6030226891555273, -0.30151134457776363, 0.0, 0.30151134457776363, 0.6030226891555273, 0.9045340337332909, 1.2060453783110545, 1.507556722888818]\n"
     ]
    }
   ],
   "source": [
    "# To see how it works\n",
    "a = range(-3, 8)\n",
    "print(a)\n",
    "a = myshift(a)\n",
    "print(a)\n",
    "a = myscale(a)\n",
    "print(a)"
   ]
  },
  {
   "cell_type": "markdown",
   "metadata": {},
   "source": [
    "b) Create a function `composition(*funs)` which takes a non-empty sequence of functions of one argument and returns their sequential composition. That is $composition(f_0,f_1, \\ldots, f_n) = f_0 \\circ f_1 \\circ\\ldots \\circ f_n$. (The question of if $f\\circ g \\circ h$ should be read $f\\circ (g\\circ h)$ or $(f \\circ g) \\circ h$ is perfectly valid, but they turn out to be the same. That is, $\\circ$ is associative.)"
   ]
  },
  {
   "cell_type": "code",
   "execution_count": 19,
   "metadata": {},
   "outputs": [
    {
     "name": "stdout",
     "output_type": "stream",
     "text": [
      "[-1.507556722888818, -1.2060453783110545, -0.9045340337332909, -0.6030226891555273, -0.30151134457776363, 0.0, 0.30151134457776363, 0.6030226891555273, 0.9045340337332909, 1.2060453783110545, 1.507556722888818]\n"
     ]
    }
   ],
   "source": [
    "def composition(*funs):\n",
    "    return reduce(lambda f, g: lambda x: f(g(x)), funs, lambda x: x)\n",
    "\n",
    "standardize = composition(*[myscale, myshift])\n",
    "print(standardize(range(-3, 8)))"
   ]
  },
  {
   "cell_type": "markdown",
   "metadata": {},
   "source": [
    "Hint: Don't remember what can be found in `*funs`? Print it! Don't know how the values should be combined? Write out some simple example on paper."
   ]
  },
  {
   "cell_type": "markdown",
   "metadata": {},
   "source": [
    "Note: This task demonstrates the generality of our constructs. Previously we worked with sequences of numbers and the like. Now we lift this to the level of working with functions as values, and instead of using combinators which work on numbers, we use function combinators in conjunction with our known patterns."
   ]
  },
  {
   "cell_type": "markdown",
   "metadata": {},
   "source": [
    "### Voluntary task: pipelining\n",
    "\n",
    "When doing data analysis, one very important part is pre-processing. Often, data goes through a number of steps of preprocessing, sometimes called a pipeline. The function composition example above can be seen as a special case of such a pipeline for only two functions. By clever use of higher order functions, we can build a pipeline function which takes a list or tuple of data transforming functions and creates a function which applies these sequentially. Construct such a function called `make_pipeline`. In order to focus on the primary purpose of the `make_pipeline` function, we will perform a very simple set of transformations, increment each value by 1, take the absolute value, and then take the square root. Usage example and code for the `inc` function is supplied below.\n",
    "\n",
    "You may want to use functions you have defined above."
   ]
  },
  {
   "cell_type": "markdown",
   "metadata": {},
   "source": [
    "from functools import reduce, partial\n",
    "from math import sqrt \n",
    "\n",
    "def make_pipeline(*funs):\n",
    "    pass\n",
    "    return lambda vals: ???\n",
    "\n",
    "# We can even drop the lambda vals : bit, using partial\n",
    "# evaluation (see the help for functools.partial!)\n",
    "\n",
    "def inc(x):\n",
    "    return x+1\n",
    "\n",
    "pipeline = make_pipeline(inc, abs, sqrt)\n",
    "\n",
    "tuple(pipeline(range(-5,5)))"
   ]
  },
  {
   "cell_type": "markdown",
   "metadata": {},
   "source": [
    "## 4. Simple declarative Pythonic patterns (involing HOF)"
   ]
  },
  {
   "cell_type": "markdown",
   "metadata": {},
   "source": [
    "a) As preparation, create a named tuple type \"coord\" which has fields `x` and `y`."
   ]
  },
  {
   "cell_type": "code",
   "execution_count": 20,
   "metadata": {},
   "outputs": [],
   "source": [
    "from collections import namedtuple\n",
    "coord = namedtuple('coord', 'x y')\n",
    "\n",
    "five_three = coord(5,3)\n",
    "assert five_three.x == 5, \"first element is the x coordinate\"\n",
    "assert five_three.y == 3, \"the second element is the y coordinate\""
   ]
  },
  {
   "cell_type": "markdown",
   "metadata": {},
   "source": [
    "b) Generate a $10^7$ random coordinates, with $x$ and $y$ coordinates drawn uniformly from [-1000,1000]. Save the tuple of those with $x + y > 0$ as `rnd_coords`. How many are there?"
   ]
  },
  {
   "cell_type": "code",
   "execution_count": 21,
   "metadata": {},
   "outputs": [
    {
     "name": "stdout",
     "output_type": "stream",
     "text": [
      "4998998\n"
     ]
    },
    {
     "data": {
      "text/plain": [
       "(coord(x=-129.80403921240827, y=527.6372343781306),\n",
       " coord(x=956.6651115469208, y=934.3596327828768),\n",
       " coord(x=823.7680008759442, y=53.141043374457695),\n",
       " coord(x=116.68204389382367, y=193.98071354114109),\n",
       " coord(x=-770.936389232472, y=822.5894188585332),\n",
       " coord(x=988.213705212087, y=-612.062408295779),\n",
       " coord(x=-6.372145858167414, y=71.76555397881043),\n",
       " coord(x=174.8676750877646, y=606.5773139526309),\n",
       " coord(x=712.5027868734462, y=-488.44262809232816),\n",
       " coord(x=209.96006752845187, y=339.73060531512306))"
      ]
     },
     "execution_count": 21,
     "metadata": {},
     "output_type": "execute_result"
    }
   ],
   "source": [
    "from random import uniform\n",
    "\n",
    "rnd_coords = [None]*10_000_000 # Tupel won't work here!\n",
    "rnd_coords = map(lambda x: coord(uniform(-1000, 1000), uniform(-1000, 1000)), rnd_coords)\n",
    "rnd_coords = tuple(filter(lambda point: point.x + point.y > 0, rnd_coords))\n",
    "\n",
    "print(len(rnd_coords))\n",
    "rnd_coords[0:10]"
   ]
  },
  {
   "cell_type": "markdown",
   "metadata": {},
   "source": [
    "[Note: If this takes a while, you might want to consider when the elements are generated and saved.]"
   ]
  },
  {
   "cell_type": "markdown",
   "metadata": {},
   "source": [
    "**Before having solved the tasks below, consider setting `coords` to a smaller set (eg generate $10^3$ elements instead of $10^7$ to start with).**"
   ]
  },
  {
   "cell_type": "markdown",
   "metadata": {},
   "source": [
    "c) Let `sorted_rnd` be the coordinated sorted first by the `x` component and then the `y`. Use a built-in Python sorting function. Do you need any extra parameters? Why? Why not? How would you find out where the order comes from (and might it be consistent but useless, eg sorting the elements by memory location)?"
   ]
  },
  {
   "cell_type": "markdown",
   "metadata": {},
   "source": [
    "**Answer:** As the instructions are unclear and we don't really now how we are supposed to sort, we did it in three ways:\n",
    "- First order by X and if X is the same, then by Y. This will mostly not happen with floating point numbers.\n",
    "- We sort the set of all X and all Y and then match them again.\n",
    "- First sort by X, then sort by Y.\n",
    "\n",
    "We're not sure what is meant by extra parameters, as we simply sort by a key, so maybe this is ment as a parameter. If this was not meant then no, we didn't use any parameters.\n",
    "\n",
    "The last question, where the order comes from, is unclear to us. What is meant by that? Do you mean from which \"implementation\" is coming from? We would look in the Python documentation.\n",
    "\n",
    "We no these answers might not be as wished, but we and others groups couldn't figure out what was meant here, sorry."
   ]
  },
  {
   "cell_type": "code",
   "execution_count": 22,
   "metadata": {},
   "outputs": [
    {
     "data": {
      "text/plain": [
       "[coord(x=-999.6023073711764, y=999.8777468492854),\n",
       " coord(x=-999.3630677377996, y=999.8170731858365),\n",
       " coord(x=-999.2597173446416, y=999.6052932305633),\n",
       " coord(x=-998.5851200781603, y=998.7538382497073),\n",
       " coord(x=-997.8393674435251, y=998.7048632006515),\n",
       " coord(x=-997.5810661837587, y=998.0805540417305),\n",
       " coord(x=-997.5786495288943, y=998.7982255512293),\n",
       " coord(x=-997.3341556956741, y=997.6384172819239),\n",
       " coord(x=-997.249023177508, y=998.1764290943643),\n",
       " coord(x=-997.2469857223532, y=997.3296132870537)]"
      ]
     },
     "execution_count": 22,
     "metadata": {},
     "output_type": "execute_result"
    }
   ],
   "source": [
    "# Sorting by X, if matching sort by Y\n",
    "sorted_rnd = sorted(rnd_coords, key = lambda point: (point.x, point.y))\n",
    "sorted_rnd[0:10]"
   ]
  },
  {
   "cell_type": "code",
   "execution_count": 23,
   "metadata": {},
   "outputs": [
    {
     "data": {
      "text/plain": [
       "[coord(x=999.9978643104605, y=-298.737988093035),\n",
       " coord(x=999.9982422339713, y=723.8979548666507),\n",
       " coord(x=999.9984769134721, y=202.55111076719754),\n",
       " coord(x=999.9989104224908, y=715.1122968361071),\n",
       " coord(x=999.9992033477463, y=-490.21559253075964),\n",
       " coord(x=999.9994928229346, y=-497.6014267789346),\n",
       " coord(x=999.9996742642661, y=96.3974034242674),\n",
       " coord(x=999.9997393642291, y=-236.53892183984772),\n",
       " coord(x=999.9997851388625, y=-339.7899333735637),\n",
       " coord(x=999.9997907698767, y=335.54544822021853)]"
      ]
     },
     "execution_count": 23,
     "metadata": {},
     "output_type": "execute_result"
    }
   ],
   "source": [
    "sorted_rnd[-10:]"
   ]
  },
  {
   "cell_type": "code",
   "execution_count": 24,
   "metadata": {},
   "outputs": [
    {
     "data": {
      "text/plain": [
       "(coord(x=-999.6023073711764, y=-999.4725691904531),\n",
       " coord(x=-999.3630677377996, y=-999.3569407949241),\n",
       " coord(x=-999.2597173446416, y=-998.0626283315943),\n",
       " coord(x=-998.5851200781603, y=-997.7148550626489),\n",
       " coord(x=-997.8393674435251, y=-997.6428685114316),\n",
       " coord(x=-997.5810661837587, y=-997.0831565295764),\n",
       " coord(x=-997.5786495288943, y=-996.7749396449244),\n",
       " coord(x=-997.3341556956741, y=-996.6744186105891),\n",
       " coord(x=-997.249023177508, y=-996.6335348942416),\n",
       " coord(x=-997.2469857223532, y=-996.6132675965566))"
      ]
     },
     "execution_count": 24,
     "metadata": {},
     "output_type": "execute_result"
    }
   ],
   "source": [
    "# Sorting X and Y independently\n",
    "sorted_rnd_x = sorted(rnd_coords, key = lambda point: (point.x))\n",
    "sorted_rnd_y = sorted(rnd_coords, key = lambda point: (point.y))\n",
    "sorted_rnd = tuple(map(lambda point: coord(point[0].x, point[1].y), zip(sorted_rnd_x, sorted_rnd_y)))\n",
    "sorted_rnd[0:10]"
   ]
  },
  {
   "cell_type": "code",
   "execution_count": 25,
   "metadata": {},
   "outputs": [
    {
     "data": {
      "text/plain": [
       "(coord(x=999.9978643104605, y=999.9976745615668),\n",
       " coord(x=999.9982422339713, y=999.9977425451837),\n",
       " coord(x=999.9984769134721, y=999.9977795531779),\n",
       " coord(x=999.9989104224908, y=999.9980923021017),\n",
       " coord(x=999.9992033477463, y=999.9983447770417),\n",
       " coord(x=999.9994928229346, y=999.9985544601359),\n",
       " coord(x=999.9996742642661, y=999.998584848709),\n",
       " coord(x=999.9997393642291, y=999.9988473546282),\n",
       " coord(x=999.9997851388625, y=999.9994788761121),\n",
       " coord(x=999.9997907698767, y=999.9996077903784))"
      ]
     },
     "execution_count": 25,
     "metadata": {},
     "output_type": "execute_result"
    }
   ],
   "source": [
    "sorted_rnd[-10:]"
   ]
  },
  {
   "cell_type": "code",
   "execution_count": 26,
   "metadata": {},
   "outputs": [
    {
     "data": {
      "text/plain": [
       "[coord(x=-999.6023073711764, y=999.8777468492854),\n",
       " coord(x=-999.3630677377996, y=999.8170731858365),\n",
       " coord(x=-999.2597173446416, y=999.6052932305633),\n",
       " coord(x=-998.5851200781603, y=998.7538382497073),\n",
       " coord(x=-997.8393674435251, y=998.7048632006515),\n",
       " coord(x=-997.5810661837587, y=998.0805540417305),\n",
       " coord(x=-997.5786495288943, y=998.7982255512293),\n",
       " coord(x=-997.3341556956741, y=997.6384172819239),\n",
       " coord(x=-997.249023177508, y=998.1764290943643),\n",
       " coord(x=-997.2469857223532, y=997.3296132870537)]"
      ]
     },
     "execution_count": 26,
     "metadata": {},
     "output_type": "execute_result"
    }
   ],
   "source": [
    "# First sorting by X, then by Y\n",
    "sorted_rnd = sorted(sorted(rnd_coords, key = lambda point: (point.x)), key = lambda point: (point.x))\n",
    "sorted_rnd[0:10]"
   ]
  },
  {
   "cell_type": "code",
   "execution_count": 27,
   "metadata": {},
   "outputs": [
    {
     "data": {
      "text/plain": [
       "[coord(x=999.9978643104605, y=-298.737988093035),\n",
       " coord(x=999.9982422339713, y=723.8979548666507),\n",
       " coord(x=999.9984769134721, y=202.55111076719754),\n",
       " coord(x=999.9989104224908, y=715.1122968361071),\n",
       " coord(x=999.9992033477463, y=-490.21559253075964),\n",
       " coord(x=999.9994928229346, y=-497.6014267789346),\n",
       " coord(x=999.9996742642661, y=96.3974034242674),\n",
       " coord(x=999.9997393642291, y=-236.53892183984772),\n",
       " coord(x=999.9997851388625, y=-339.7899333735637),\n",
       " coord(x=999.9997907698767, y=335.54544822021853)]"
      ]
     },
     "execution_count": 27,
     "metadata": {},
     "output_type": "execute_result"
    }
   ],
   "source": [
    "sorted_rnd[-10:]"
   ]
  },
  {
   "cell_type": "markdown",
   "metadata": {},
   "source": [
    "[General words of advice:\n",
    "\n",
    "* During testing, you might want to use a smaller data set (and then try it out at a larger set).\n",
    "* You might not want to display the entire list to see if you're right all the time. Slicing out the first and last elements, say the first or last 10, might provide some hints.\n",
    "* You could naturally define a function which checks that the list is in order (or performs some probabilistic sampling test), to test this.]"
   ]
  },
  {
   "cell_type": "markdown",
   "metadata": {},
   "source": [
    "d) Sort the values (in the sense of returning a new sorted tuple) by their Euclidean distance to the point (5,3). Continue using a built-in Python sorting function."
   ]
  },
  {
   "cell_type": "code",
   "execution_count": 28,
   "metadata": {},
   "outputs": [
    {
     "data": {
      "text/plain": [
       "[coord(x=5.388416965218084, y=3.0222128186163673),\n",
       " coord(x=4.547841484095329, y=3.1023225042243894),\n",
       " coord(x=4.663114974437121, y=2.326212495794607),\n",
       " coord(x=5.642371346125515, y=3.614708408108413),\n",
       " coord(x=5.23344366861545, y=3.915112227136092),\n",
       " coord(x=5.890776342998038, y=2.5705858555404575),\n",
       " coord(x=5.977948911184171, y=2.79121135987225),\n",
       " coord(x=4.532140159446271, y=3.917055767312945),\n",
       " coord(x=4.077778591714377, y=2.402533016072198),\n",
       " coord(x=3.896855925946511, y=2.9136308544843814)]"
      ]
     },
     "execution_count": 28,
     "metadata": {},
     "output_type": "execute_result"
    }
   ],
   "source": [
    "import math\n",
    "pts_near_53 = sorted(rnd_coords, key = lambda point : math.sqrt((point.x - 5)**2 + (point.y - 3)**2))\n",
    "pts_near_53[0:10]"
   ]
  },
  {
   "cell_type": "code",
   "execution_count": 29,
   "metadata": {},
   "outputs": [
    {
     "data": {
      "text/plain": [
       "[coord(x=-996.1640922561165, y=999.5341001919514),\n",
       " coord(x=-996.5793486250502, y=999.3483218994611),\n",
       " coord(x=-996.2504799517134, y=999.922959615619),\n",
       " coord(x=-997.5786495288943, y=998.7982255512293),\n",
       " coord(x=-996.5006494439466, y=999.9675781459891),\n",
       " coord(x=-997.8393674435251, y=998.7048632006515),\n",
       " coord(x=-998.5851200781603, y=998.7538382497073),\n",
       " coord(x=-999.2597173446416, y=999.6052932305633),\n",
       " coord(x=-999.3630677377996, y=999.8170731858365),\n",
       " coord(x=-999.6023073711764, y=999.8777468492854)]"
      ]
     },
     "execution_count": 29,
     "metadata": {},
     "output_type": "execute_result"
    }
   ],
   "source": [
    "pts_near_53[-10:]"
   ]
  },
  {
   "cell_type": "markdown",
   "metadata": {},
   "source": [
    "Note: here we customise the behaviour of a built-in function by passing it information about our intended ordering."
   ]
  },
  {
   "cell_type": "markdown",
   "metadata": {},
   "source": [
    "d) Define the function `sorted_by_distance(origo)` which takes a coordinate `origo` and returns a function which sorts the sequence by the euclidean distance to `origo`. (Ie those closest to origo come first in the list.)"
   ]
  },
  {
   "cell_type": "code",
   "execution_count": 30,
   "metadata": {},
   "outputs": [],
   "source": [
    "def sorted_by_distance(origo):\n",
    "    return lambda seq : sorted(rnd_coords, key = lambda point : math.sqrt((point.x - origo.x)**2 + (point.y - origo.y)**2))\n",
    "\n",
    "\n",
    "ordered_by_closeness_to_53 = sorted_by_distance(coord(5,3))   # Return the function.\n",
    "pts_near_53_2 = ordered_by_closeness_to_53(rnd_coords)     # Applying the function \n",
    "\n",
    "assert pts_near_53 == pts_near_53_2"
   ]
  },
  {
   "cell_type": "code",
   "execution_count": 31,
   "metadata": {},
   "outputs": [
    {
     "data": {
      "text/plain": [
       "[coord(x=5.388416965218084, y=3.0222128186163673),\n",
       " coord(x=4.547841484095329, y=3.1023225042243894),\n",
       " coord(x=4.663114974437121, y=2.326212495794607),\n",
       " coord(x=5.642371346125515, y=3.614708408108413),\n",
       " coord(x=5.23344366861545, y=3.915112227136092),\n",
       " coord(x=5.890776342998038, y=2.5705858555404575),\n",
       " coord(x=5.977948911184171, y=2.79121135987225),\n",
       " coord(x=4.532140159446271, y=3.917055767312945),\n",
       " coord(x=4.077778591714377, y=2.402533016072198),\n",
       " coord(x=3.896855925946511, y=2.9136308544843814)]"
      ]
     },
     "execution_count": 31,
     "metadata": {},
     "output_type": "execute_result"
    }
   ],
   "source": [
    "pts_near_53[0:10]"
   ]
  },
  {
   "cell_type": "code",
   "execution_count": 32,
   "metadata": {},
   "outputs": [
    {
     "data": {
      "text/plain": [
       "[coord(x=5.388416965218084, y=3.0222128186163673),\n",
       " coord(x=4.547841484095329, y=3.1023225042243894),\n",
       " coord(x=4.663114974437121, y=2.326212495794607),\n",
       " coord(x=5.642371346125515, y=3.614708408108413),\n",
       " coord(x=5.23344366861545, y=3.915112227136092),\n",
       " coord(x=5.890776342998038, y=2.5705858555404575),\n",
       " coord(x=5.977948911184171, y=2.79121135987225),\n",
       " coord(x=4.532140159446271, y=3.917055767312945),\n",
       " coord(x=4.077778591714377, y=2.402533016072198),\n",
       " coord(x=3.896855925946511, y=2.9136308544843814)]"
      ]
     },
     "execution_count": 32,
     "metadata": {},
     "output_type": "execute_result"
    }
   ],
   "source": [
    "pts_near_53_2[0:10]"
   ]
  },
  {
   "cell_type": "markdown",
   "metadata": {},
   "source": [
    "[Note: Here we extend the work above to a higher-order function, which uses the local value of `origo`. In essence, this task summarises higher order functionality - we create a closure, return a function and use a custom ordering ]"
   ]
  },
  {
   "cell_type": "markdown",
   "metadata": {},
   "source": [
    "e) So far in the course, we have seen, and possibly used `enumerate`, `range`, `zip`, `map` and `filter` as declarative constructs (along with the general comprehension syntax). Now we introduce a further useful iterator construct. Construct something called `reverse_squared` which when prompted would give us the squares of elements 0,...,N _but in reverse_ (that is $N^2, (N-1)^2, ..., 2^2, 1^2, 0^2$)."
   ]
  },
  {
   "cell_type": "code",
   "execution_count": 33,
   "metadata": {},
   "outputs": [],
   "source": [
    "# The time it takes to run this shouldn't really depend on if you use SMALL_N or BIG_N.\n",
    "\n",
    "BIG_N = 99999999\n",
    "SMALL_N = 999\n",
    "\n",
    "N = BIG_N    # change this to test later on\n",
    "\n",
    "reverse_squares = map(lambda value: value**2, range(N, -1, -1)) # your code here"
   ]
  },
  {
   "cell_type": "code",
   "execution_count": 34,
   "metadata": {
    "scrolled": true
   },
   "outputs": [
    {
     "name": "stdout",
     "output_type": "stream",
     "text": [
      "Did we find it?  True\n",
      "         66 function calls in 0.000 seconds\n",
      "\n",
      "   Ordered by: standard name\n",
      "\n",
      "   ncalls  tottime  percall  cumtime  percall filename:lineno(function)\n",
      "        5    0.000    0.000    0.000    0.000 :0(acquire)\n",
      "        5    0.000    0.000    0.000    0.000 :0(append)\n",
      "        1    0.000    0.000    0.000    0.000 :0(exec)\n",
      "        4    0.000    0.000    0.000    0.000 :0(getpid)\n",
      "        4    0.000    0.000    0.000    0.000 :0(isinstance)\n",
      "        1    0.000    0.000    0.000    0.000 :0(print)\n",
      "        1    0.000    0.000    0.000    0.000 :0(setprofile)\n",
      "        1    0.000    0.000    0.000    0.000 <ipython-input-34-6d4c57872b8f>:19(<lambda>)\n",
      "        1    0.000    0.000    0.000    0.000 <string>:1(<module>)\n",
      "        5    0.000    0.000    0.000    0.000 iostream.py:195(schedule)\n",
      "        4    0.000    0.000    0.000    0.000 iostream.py:307(_is_master_process)\n",
      "        4    0.000    0.000    0.000    0.000 iostream.py:320(_schedule_flush)\n",
      "        4    0.000    0.000    0.000    0.000 iostream.py:382(write)\n",
      "        5    0.000    0.000    0.000    0.000 iostream.py:93(_event_pipe)\n",
      "        1    0.000    0.000    0.000    0.000 profile:0(print('Did we find it? ', 9999999800000001 in reverse_squares))\n",
      "        0    0.000             0.000          profile:0(profiler)\n",
      "        5    0.000    0.000    0.000    0.000 socket.py:337(send)\n",
      "        5    0.000    0.000    0.000    0.000 threading.py:1062(_wait_for_tstate_lock)\n",
      "        5    0.000    0.000    0.000    0.000 threading.py:1104(is_alive)\n",
      "        5    0.000    0.000    0.000    0.000 threading.py:506(is_set)\n",
      "\n",
      "\n"
     ]
    }
   ],
   "source": [
    "# Experimentation: copy and paste your code from above into this cell.\n",
    "# This is rather crude, but we want you to to be able to trust that any\n",
    "# slowness in the cell above can be found by reference to that code, not the\n",
    "# profiling code below.\n",
    "\n",
    "# We already pasted it below, so we have no idea why we should paste it here as well.\n",
    "# We know it's simply a generator and values are calcualted on the fly when needed, so we have no trust issues here... :)\n",
    "\n",
    "import profile\n",
    "\n",
    "# We cut and paste this code \n",
    "BIG_N = 99999999\n",
    "SMALL_N = 999\n",
    "\n",
    "N = BIG_N    \n",
    "# Look at the run time. Switching from BIG_N to SMALL_N shouldn't really matter.\n",
    "# This suggests that we have quick access to elements at the end of our (squared) range.\n",
    "\n",
    "reverse_squares = map(lambda value: value**2, range(N, -1, -1)) # <<----------- Your code from the cell above goes here.\n",
    "\n",
    "\n",
    "profile.run(\"print('Did we find it? ', {} in reverse_squares)\".format( N**2 ))"
   ]
  },
  {
   "cell_type": "markdown",
   "metadata": {},
   "source": [
    "Note: once you know of the construct, this task is extremely simple. It mostly serves as a demonstration of the availability of these constructs, and how they can be combined. Also, it points to efficiency considerations when using declarative iterator constructs as opposed to fixed computed structures.\n",
    "\n",
    "As the profiling code above suggests, where we redefine the object in every run, we do not have a purely functional construct. In that case, we wouldn't be able to exhaust the values."
   ]
  },
  {
   "cell_type": "markdown",
   "metadata": {},
   "source": [
    "[Additional reading: some additional tools are available in the `itertools` module.]"
   ]
  },
  {
   "cell_type": "markdown",
   "metadata": {},
   "source": [
    "## 5 Mutating function state\n",
    "\n",
    "A function always has access to the environment in which it was created. Usually, this means that the function can access global variables. It also means that it can access and modify local bindings from where it was created.\n",
    "\n",
    "A closure is a function which has access to an environment which is not accessible from outside the function (but which is not destroyed when the function returns). I.e. it is a way to introduce a small measure of statefulness into functional programming. In Python, iterators and generators work much like this. However, we can use the general concept in many cases."
   ]
  },
  {
   "cell_type": "markdown",
   "metadata": {},
   "source": [
    "a) Implement a function `make_counter` which has a single parameter `n` which acts as the initial value for a counter. The function should return a function with no parameters which, when called, increments the value of `n` by 1 and returns the new value."
   ]
  },
  {
   "cell_type": "code",
   "execution_count": 35,
   "metadata": {},
   "outputs": [
    {
     "name": "stdout",
     "output_type": "stream",
     "text": [
      "To show that the functions do not affect each others' states, consider the printout:\n",
      "counter_A returns: 1\n",
      "counter_A returns: 2\n",
      "counter_B returns: 16\n",
      "counter_A returns: 3 (was it affected by the call to counter_B?)\n"
     ]
    }
   ],
   "source": [
    "def make_counter(n):\n",
    "    storage = n\n",
    "    \n",
    "    def increase():\n",
    "        nonlocal storage\n",
    "        storage = storage + 1\n",
    "        return storage\n",
    "    \n",
    "    return increase\n",
    "\n",
    "counter_A = make_counter(0)\n",
    "counter_B = make_counter(15)\n",
    "print(\"To show that the functions do not affect each others' states, consider the printout:\")\n",
    "print(\"counter_A returns: {}\".format(counter_A()))\n",
    "print(\"counter_A returns: {}\".format(counter_A()))\n",
    "print(\"counter_B returns: {}\".format(counter_B()))\n",
    "print(\"counter_A returns: {} (was it affected by the call to counter_B?)\".format(counter_A()))"
   ]
  },
  {
   "cell_type": "markdown",
   "metadata": {},
   "source": [
    "## 6. Use case: parametrisation\n",
    "\n",
    "Above, we see how `sorted` can be parametrised with information about the intended order. We want to extend our `quicksort` to work the same way. We should be able to provide the way for it to tell if object A in the tuple should come before object B, or after. This is done by mapping the objects onto something where we do have an order."
   ]
  },
  {
   "cell_type": "markdown",
   "metadata": {},
   "source": [
    "a) Copy your code from the `quicksort` task above, and extend it. Call the function `quicksort_param` for parametrised, and allow a key parameter to be passed in (like in `sorted`). Note that the key function should be optional. We thus want default arguments."
   ]
  },
  {
   "cell_type": "code",
   "execution_count": 36,
   "metadata": {},
   "outputs": [
    {
     "data": {
      "text/plain": [
       "((0.22212408814806162, 0.20537639964183985, 0.7793208895773884),\n",
       " (0.13609762793474522, 0.9937457091018332, 0.6013814416963916),\n",
       " (0.6486771517963844, 0.31049116272786115, 0.03518220966281571),\n",
       " (0.28136419609808805, 0.07554085491187112, 0.6304701082816673),\n",
       " (0.7677493519332991, 0.20019636317863954, 0.06275640430082641),\n",
       " (0.7985942305911453, 0.9761296046964922, 0.8429027624750294),\n",
       " (0.1324138228043349, 0.42839031047124254, 0.4496820833364502),\n",
       " (0.2782714100458632, 0.7226672196378288, 0.3349274555744536),\n",
       " (0.8097874835519704, 0.8530673132854537, 0.8329616400784645),\n",
       " (0.28829717195036253, 0.38785175470192623, 0.28002773712899787))"
      ]
     },
     "execution_count": 36,
     "metadata": {},
     "output_type": "execute_result"
    }
   ],
   "source": [
    "from random import random\n",
    "\n",
    "# Write quicksort_param here:\n",
    "\n",
    "def quicksort_param(seq, key = lambda value: value):\n",
    "    \n",
    "    if isinstance(tuple(map(key, seq)), int):\n",
    "        return (seq, )\n",
    "    \n",
    "    if len(tuple(map(key, seq))) == 0:\n",
    "        return tuple()\n",
    "    \n",
    "    pivot = key(seq[0])\n",
    "    \n",
    "    seq_lower = tuple(filter(lambda x: key(x) < pivot, seq))\n",
    "    seq_upper = tuple(filter(lambda x: key(x) > pivot, seq))\n",
    "    \n",
    "    return(quicksort_param(seq_lower, key) + (seq[0], ) + quicksort_param(seq_upper, key))\n",
    "\n",
    "a = tuple(tuple(random() for i in range(3)) for j in range(10))\n",
    "b = quicksort_param(a, sum)   # Elements are three-tuples. Those with smallest sums of values should come first.\n",
    "a"
   ]
  },
  {
   "cell_type": "code",
   "execution_count": 37,
   "metadata": {},
   "outputs": [
    {
     "data": {
      "text/plain": [
       "((0.28829717195036253, 0.38785175470192623, 0.28002773712899787),\n",
       " (0.28136419609808805, 0.07554085491187112, 0.6304701082816673),\n",
       " (0.6486771517963844, 0.31049116272786115, 0.03518220966281571),\n",
       " (0.1324138228043349, 0.42839031047124254, 0.4496820833364502),\n",
       " (0.7677493519332991, 0.20019636317863954, 0.06275640430082641),\n",
       " (0.22212408814806162, 0.20537639964183985, 0.7793208895773884),\n",
       " (0.2782714100458632, 0.7226672196378288, 0.3349274555744536),\n",
       " (0.13609762793474522, 0.9937457091018332, 0.6013814416963916),\n",
       " (0.8097874835519704, 0.8530673132854537, 0.8329616400784645),\n",
       " (0.7985942305911453, 0.9761296046964922, 0.8429027624750294))"
      ]
     },
     "execution_count": 37,
     "metadata": {},
     "output_type": "execute_result"
    }
   ],
   "source": [
    "b"
   ]
  },
  {
   "cell_type": "code",
   "execution_count": 38,
   "metadata": {},
   "outputs": [
    {
     "data": {
      "text/plain": [
       "(1.20682137736729,\n",
       " 1.73122477873297,\n",
       " 0.9943505241870613,\n",
       " 0.9873751592916264,\n",
       " 1.030702119412765,\n",
       " 2.617626597762667,\n",
       " 1.0104862166120276,\n",
       " 1.3358660852581457,\n",
       " 2.495816436915889,\n",
       " 0.9561766637812866)"
      ]
     },
     "execution_count": 38,
     "metadata": {},
     "output_type": "execute_result"
    }
   ],
   "source": [
    "tuple(map(sum, a))"
   ]
  },
  {
   "cell_type": "code",
   "execution_count": 39,
   "metadata": {},
   "outputs": [
    {
     "data": {
      "text/plain": [
       "(0.9561766637812866,\n",
       " 0.9873751592916264,\n",
       " 0.9943505241870613,\n",
       " 1.0104862166120276,\n",
       " 1.030702119412765,\n",
       " 1.20682137736729,\n",
       " 1.3358660852581457,\n",
       " 1.73122477873297,\n",
       " 2.495816436915889,\n",
       " 2.617626597762667)"
      ]
     },
     "execution_count": 39,
     "metadata": {},
     "output_type": "execute_result"
    }
   ],
   "source": [
    "tuple(map(sum, b))"
   ]
  },
  {
   "cell_type": "code",
   "execution_count": 40,
   "metadata": {},
   "outputs": [
    {
     "data": {
      "text/plain": [
       "(2, 5, 9, 200)"
      ]
     },
     "execution_count": 40,
     "metadata": {},
     "output_type": "execute_result"
    }
   ],
   "source": [
    "quicksort_param([5,2,9,200])"
   ]
  },
  {
   "cell_type": "markdown",
   "metadata": {},
   "source": [
    "## Attribution\n",
    "\n",
    "Lab by Johan Falkenjack (2018), extended and rewritten by Anders Märak Leffler (2019).\n",
    "\n",
    "License [CC-BY-SA 4.0](https://creativecommons.org/licenses/by-sa/4.0/)"
   ]
  }
 ],
 "metadata": {
  "kernelspec": {
   "display_name": "Python 3",
   "language": "python",
   "name": "python3"
  },
  "language_info": {
   "codemirror_mode": {
    "name": "ipython",
    "version": 3
   },
   "file_extension": ".py",
   "mimetype": "text/x-python",
   "name": "python",
   "nbconvert_exporter": "python",
   "pygments_lexer": "ipython3",
   "version": "3.6.8"
  }
 },
 "nbformat": 4,
 "nbformat_minor": 2
}
