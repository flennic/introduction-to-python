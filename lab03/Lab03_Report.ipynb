{
 "cells": [
  {
   "cell_type": "markdown",
   "metadata": {},
   "source": [
    "# Lab 3B: A Composite Scripting Task"
   ]
  },
  {
   "cell_type": "markdown",
   "metadata": {},
   "source": [
    "__Student I:__ aleka769 (Alexander Karlsson)\n",
    "\n",
    "__Student II:__ maxpf364 (Maximilian Pfundstein)"
   ]
  },
  {
   "cell_type": "markdown",
   "metadata": {},
   "source": [
    "## A Simple Text Extraction Script\n",
    "\n",
    "- It should be invoked from the shell/terminal by ./text_stats.py <filename> (so, for example ./text_stats.py shakespeare.txt). On Windows, this might look like python text_stats.py <filename> (see below).\n",
    "- If the user provides no such argument, an error message should be printed (not just an exception raised).\n",
    "- If the file does not exist, you need to print \"The file does not exist!\".\n",
    "- It should print, in some readable fashion, a frequency table for alphabetic letters, ordered from the most common to the least.\n",
    "- It should print the number of words that the text contains, according to some definition of words.\n",
    "- It should print the number of unique words that the text contains, according to this definition.\n",
    "- It should also print the five most commonly used words, their frequency and the words that most commonly follow them (max three per word, ordered from most common to least, including information about the number of occurrences). So if the word \"my\" is followed by \"king\" five times, \"lord\" three times and \"supper\" ten times, this part of the printout might consist of"
   ]
  },
  {
   "cell_type": "markdown",
   "metadata": {},
   "source": [
    "The script can be invoked from the shell like this:"
   ]
  },
  {
   "cell_type": "code",
   "execution_count": 1,
   "metadata": {},
   "outputs": [
    {
     "name": "stdout",
     "output_type": "stream",
     "text": [
      "INVALID NUMBER OF ARGUMENTS. Arguments are:\n",
      "(Mandatory) filepath: Path to the text file which should be analyzed.\n",
      "(Optional) filepath: Path to an output file where to store the analyzed data.\n"
     ]
    }
   ],
   "source": [
    "!./consoleApplication/analyze_text.py"
   ]
  },
  {
   "cell_type": "markdown",
   "metadata": {},
   "source": [
    "We can see, that if the user does not provide an argument, an error message is printed."
   ]
  },
  {
   "cell_type": "code",
   "execution_count": 2,
   "metadata": {},
   "outputs": [
    {
     "name": "stdout",
     "output_type": "stream",
     "text": [
      "The given file does not exist.\n"
     ]
    }
   ],
   "source": [
    "!./consoleApplication/analyze_text.py \"./consoleApplication/shakespeare_RANDOM_NOISE.txt\""
   ]
  },
  {
   "cell_type": "code",
   "execution_count": 3,
   "metadata": {},
   "outputs": [
    {
     "name": "stdout",
     "output_type": "stream",
     "text": [
      "\n",
      "The given file contains 959191 words where 30896 words are unique.\n",
      "\n",
      "The most common letters are:\n",
      "[('e', 480970), ('t', 354107), ('o', 332717)]\n",
      "\n",
      "The most common words and successors are:\n",
      "\n",
      "the (30096 occurrences)\n",
      "-- king, 755\n",
      "-- world, 442\n",
      "-- duke, 367\n",
      "\n",
      "and (28371 occurrences)\n",
      "-- the, 855\n",
      "-- i, 792\n",
      "-- so, 433\n",
      "\n",
      "i (21890 occurrences)\n",
      "-- am, 1958\n",
      "-- have, 1709\n",
      "-- will, 1624\n",
      "\n",
      "to (20895 occurrences)\n",
      "-- the, 1560\n",
      "-- be, 1044\n",
      "-- me, 508\n",
      "\n",
      "of (18816 occurrences)\n",
      "-- the, 1623\n",
      "-- my, 760\n",
      "-- his, 635\n",
      "\n",
      "\n"
     ]
    }
   ],
   "source": [
    "!./consoleApplication/analyze_text.py \"./consoleApplication/shakespeare.txt\""
   ]
  },
  {
   "cell_type": "markdown",
   "metadata": {},
   "source": [
    "As we can see the script extracts the desired information. For the letters we kept the tuple output as it's nice to read."
   ]
  },
  {
   "cell_type": "markdown",
   "metadata": {},
   "source": [
    "## Text Generator"
   ]
  },
  {
   "cell_type": "markdown",
   "metadata": {},
   "source": [
    "Invoking the application with invalid arguments prints an error."
   ]
  },
  {
   "cell_type": "code",
   "execution_count": 4,
   "metadata": {},
   "outputs": [
    {
     "name": "stdout",
     "output_type": "stream",
     "text": [
      "Exactly three arguments must be supplied:\n",
      "1) The file from which to extract the word statistics\n",
      "2) and a starting word\n",
      "3) the number of words to generate.\n",
      "\n"
     ]
    }
   ],
   "source": [
    "!./consoleApplication/generate_text.py"
   ]
  },
  {
   "cell_type": "code",
   "execution_count": 5,
   "metadata": {},
   "outputs": [],
   "source": [
    "!./consoleApplication/generate_text.py \"./consoleApplication/shakespeare.txt\" \"the\" 100"
   ]
  },
  {
   "cell_type": "code",
   "execution_count": 6,
   "metadata": {},
   "outputs": [
    {
     "name": "stdout",
     "output_type": "stream",
     "text": [
      "the other comfort comes that you thank him i am his find heaven nor know you know not hear me painter tis very train approacheth to catch woodcocks in venice he that i was indeed both without a perjure wearing our stars on speed and of brine smarting with hermia do i the king there was the greatness will hence for thou that mulmutius which time for if you sir the loving well if i told me sick men and trust forget it so soon make against caesar this friar lawrence hold at you coming to your tunes to the\n"
     ]
    }
   ],
   "source": [
    "!cat generated_text.txt"
   ]
  },
  {
   "cell_type": "markdown",
   "metadata": {},
   "source": [
    "We can see that the text generation works. As the content is not just text, but also for isntance **who** is talking and we only look at the pure words, we get really weird sentences. But for a basic text generator, this seems to be funny to play around with."
   ]
  }
 ],
 "metadata": {
  "kernelspec": {
   "display_name": "Python 3",
   "language": "python",
   "name": "python3"
  },
  "language_info": {
   "codemirror_mode": {
    "name": "ipython",
    "version": 3
   },
   "file_extension": ".py",
   "mimetype": "text/x-python",
   "name": "python",
   "nbconvert_exporter": "python",
   "pygments_lexer": "ipython3",
   "version": "3.6.8"
  }
 },
 "nbformat": 4,
 "nbformat_minor": 2
}
